{
 "cells": [
  {
   "cell_type": "markdown",
   "metadata": {},
   "source": [
    "© Thulani Nyama\n",
    "\n",
    "# South African Language Identification Hack 2022\n"
   ]
  },
  {
   "cell_type": "markdown",
   "metadata": {
    "colab_type": "text",
    "id": "xpIPMNPoU_-p"
   },
   "source": [
    "## Honour Code\n",
    "I **THULANI, NYAMA**, confirm - by submitting this document - that the solutions in this notebook are a result of my own work and that I abide by the EDSA honour code (https://drive.google.com/file/d/1QDCjGZJ8-FmJE3bZdIQNwnJyQKPhHZBn/view?usp=sharing).  \n",
    "\n",
    "Non-compliance with the honour code constitutes a material breach of contract."
   ]
  },
  {
   "cell_type": "markdown",
   "metadata": {},
   "source": [
    "<a id=\"cont\"></a>\n",
    "## Table of Content\n",
    "\n",
    "<a href=#one>Introduction</a>\n",
    "\n",
    "<a href=#two>Import Packages</a>\n",
    "\n",
    "<a href=#three>Import Data</a>\n",
    "\n",
    "<a href=#four>Exploratory Data Analysis<a>\n",
    "\n",
    "<a href=#five>Data Engineering</a>\n",
    "\n",
    "<a href=#six>Feature Engineering</a>\n",
    "\n",
    "<a href=#seven>Modelling</a>\n",
    "\n",
    "<a href=#eight>Model Performance</a>"
   ]
  },
  {
   "cell_type": "markdown",
   "metadata": {},
   "source": [
    "<a id=\"one\"></a>\n",
    "## 1. INTRODUCTION\n",
    "<a href=#cont>Back to Table of Contents</a>"
   ]
  },
  {
   "cell_type": "markdown",
   "metadata": {},
   "source": [
    "### Overview\n",
    "South Africa is a multicultural society that is characterised by its rich linguistic diversity. Language is an indispensable tool that can be used to deepen democracy and also contribute to the social, cultural, intellectual, economic and political life of the South African society.\n",
    "\n",
    "The country is multilingual with 11 official languages, each of which is guaranteed equal status. Most South Africans are multilingual and able to speak at least two or more of the official languages.\n",
    "From <a href=\"https://www.gov.za/about-sa/south-africas-people\">South African Government</a>\n",
    "\n",
    "<img src=\"https://www.googleapis.com/download/storage/v1/b/kaggle-user-content/o/inbox%2F2205222%2F7f34544c1b1f61d1a5949bddacfd84a9%2FSouth_Africa_languages_2011.jpg?generation=1604393669339034&alt=media\" width=80%/> \n",
    "\n",
    "With such a multilingual population, it is only obvious that our systems and devices also communicate in multi-languages.\n",
    "\n",
    "In this challenge, you will take text which is in any of South Africa's 11 Official languages and identify which language the text is in. This is an example of NLP's Language Identification, the task of determining the natural language that a piece of text is written in.\n",
    "\n",
    "<a href=\"https://bilingua.io/how-to-say-hello-in-100-languages\">Image credit</a>"
   ]
  },
  {
   "cell_type": "markdown",
   "metadata": {},
   "source": [
    "### Problem Statement\n",
    "\n",
    "Based on the linguistic diversity of the South African society, Having a model that can translate accurately any piece of text to it's required natural language, will go a long way in bridging the communication gap in any of her systems, encouraging inclusion and diversity, and finally enhanced productivity."
   ]
  },
  {
   "cell_type": "markdown",
   "metadata": {
    "colab_type": "text",
    "id": "lKmhMwlDU_-u"
   },
   "source": [
    "<a id=\"two\"></a>\n",
    "## IMPORT PACKAGES\n",
    "<a href=#cont>Back to Table of Contents</a>\n",
    "\n",
    "Below it imports of packages utilized for the purpose of classifying South African languages"
   ]
  },
  {
   "cell_type": "code",
   "execution_count": 1,
   "metadata": {
    "colab": {},
    "colab_type": "code",
    "id": "OQm0O5XHU_-z",
    "jupyter": {
     "outputs_hidden": true
    }
   },
   "outputs": [
    {
     "name": "stderr",
     "output_type": "stream",
     "text": [
      "c:\\Users\\F5470242\\Anaconda3\\lib\\site-packages\\numpy\\_distributor_init.py:30: UserWarning: loaded more than 1 DLL from .libs:\n",
      "c:\\Users\\F5470242\\Anaconda3\\lib\\site-packages\\numpy\\.libs\\libopenblas.EL2C6PLE4ZYW3ECEVIV3OXXGRN2NRFM2.gfortran-win_amd64.dll\n",
      "c:\\Users\\F5470242\\Anaconda3\\lib\\site-packages\\numpy\\.libs\\libopenblas.GK7GX5KEQ4F6UYO3P26ULGBQYHGQO7J4.gfortran-win_amd64.dll\n",
      "  warnings.warn(\"loaded more than 1 DLL from .libs:\"\n"
     ]
    }
   ],
   "source": [
    "import pandas as pd\n",
    "import numpy as np\n",
    "import matplotlib.pyplot as plt\n",
    "import seaborn as sns\n",
    "from sklearn.feature_extraction.text import CountVectorizer\n",
    "from sklearn.model_selection import train_test_split\n",
    "from sklearn.metrics import  classification_report\n",
    "from sklearn.metrics import accuracy_score\n",
    "from sklearn.naive_bayes import MultinomialNB, ComplementNB\n",
    "from sklearn.ensemble import StackingClassifier"
   ]
  },
  {
   "cell_type": "markdown",
   "metadata": {},
   "source": [
    "<a id=\"three\"></a>\n",
    "## Import Data\n",
    "<a href=#cont>Back to Table of Contents</a>\n",
    "\n",
    "The dataset used for this challenge is the NCHLT Text Corpora collected by the South African Department of Arts and Culture & Centre for Text Technology (CTexT, North-West University, South Africa). The training set was improved through additional cleaning done by Praekelt.\n",
    "\n",
    "The data is in the form Language ID, Text. The text is in various states of cleanliness. Some NLP techniques will be necessary to clean up the data."
   ]
  },
  {
   "cell_type": "code",
   "execution_count": 2,
   "metadata": {},
   "outputs": [],
   "source": [
    "# load data\n",
    "df_train = pd.read_csv('https://raw.githubusercontent.com/ThulaniNyama/south-african-language-identification-hack-2022-data/main/train_set.csv')\n",
    "df_test =pd.read_csv('https://raw.githubusercontent.com/ThulaniNyama/south-african-language-identification-hack-2022-data/main/test_set.csv')"
   ]
  },
  {
   "cell_type": "markdown",
   "metadata": {},
   "source": [
    "<a id=\"four\"></a>\n",
    "## Exploratory Data Analysis\n",
    "<a href=#cont>Back to Table of Contents</a>\n",
    "\n",
    "This includes looking to understand patterns in our data, pinpoint any corrupt data and indicate relationships between variables. This phase includes descriptive statistics and data visualisations.\n",
    "\n",
    "Now let's proceed to carrying out some EDA on our train dataset"
   ]
  },
  {
   "cell_type": "code",
   "execution_count": 3,
   "metadata": {},
   "outputs": [
    {
     "name": "stdout",
     "output_type": "stream",
     "text": [
      "\t\t\tTrain dataset\n",
      "  lang_id                                               text\n",
      "0     xho  umgaqo-siseko wenza amalungiselelo kumaziko ax...\n",
      "1     xho  i-dha iya kuba nobulumko bokubeka umsebenzi na...\n",
      "2     eng  the province of kwazulu-natal department of tr...\n",
      "3     nso  o netefatša gore o ba file dilo ka moka tše le...\n",
      "4     ven  khomishini ya ndinganyiso ya mbeu yo ewa maana...\n",
      "\n",
      "\t\t\tTest dataset\n",
      "   index                                               text\n",
      "0      1  Mmasepala, fa maemo a a kgethegileng a letlele...\n",
      "1      2  Uzakwaziswa ngokufaneleko nakungafuneka eminye...\n",
      "2      3         Tshivhumbeo tshi fana na ngano dza vhathu.\n",
      "3      4  Kube inja nelikati betingevakala kutsi titsini...\n",
      "4      5                      Winste op buitelandse valuta.\n"
     ]
    }
   ],
   "source": [
    "# view dataset\n",
    "print('\\t\\t\\tTrain dataset')\n",
    "print(df_train.head())\n",
    "print('')\n",
    "print('\\t\\t\\tTest dataset')\n",
    "print(df_test.head())"
   ]
  },
  {
   "cell_type": "code",
   "execution_count": 4,
   "metadata": {},
   "outputs": [
    {
     "name": "stdout",
     "output_type": "stream",
     "text": [
      "Number of rows in train dataset   : 33000\n",
      "Number of rows in test  dataset   : 5682\n",
      "Number of columns in test  dataset: 2\n",
      "Number of columns in test  dataset: 2\n"
     ]
    }
   ],
   "source": [
    "# visualize the shape of datasets\n",
    "print(f'Number of rows in train dataset   : {df_train.shape[0]}')\n",
    "print(f'Number of rows in test  dataset   : {df_test.shape[0]}')\n",
    "print(f'Number of columns in test  dataset: {df_train.shape[1]}')\n",
    "print(f'Number of columns in test  dataset: {df_test.shape[1]}')"
   ]
  },
  {
   "cell_type": "code",
   "execution_count": 5,
   "metadata": {},
   "outputs": [
    {
     "name": "stdout",
     "output_type": "stream",
     "text": [
      "Language IDs: ['xho', 'eng', 'nso', 'ven', 'tsn', 'nbl', 'zul', 'ssw', 'tso', 'sot', 'afr']\n"
     ]
    }
   ],
   "source": [
    "# view unique sentiments in train data set\n",
    "type_labels = list(df_train.lang_id.unique())\n",
    "print('Language IDs:', type_labels)"
   ]
  },
  {
   "cell_type": "markdown",
   "metadata": {},
   "source": [
    "There is `33000 & 5682 observations` for train and test datasets respectively as seen above. Each label represents one of the following classes:\n",
    "\n",
    "Class Description\n",
    "*  **xho :**     `Xhosa Language`\n",
    "*  **eng :**     `English Language`\n",
    "*  **nso :**     `Nsowiki Language`\n",
    "*  **ven :**     `Venda Language `\n",
    "*  **tsn :**     `Tswana Language`\n",
    "*  **nbl :**     `Ndebele Language`\n",
    "*  **zul :**     `Zulu Language`\n",
    "*  **ssw :**     `Swazi Language`\n",
    "*  **tso :**     `Tsonga Language`\n",
    "*  **sot :**     `Sotho Language`\n",
    "*  **afr :**     `Afrikaans Language`\n",
    "\n",
    "Variable definitions\n",
    "- **lang_id :**  Language Class\n",
    "- **text :**     Text Language translation  "
   ]
  },
  {
   "cell_type": "markdown",
   "metadata": {},
   "source": [
    "#### Missing Data Check\n",
    "At the training phase it's important your dataset is ideal as possible, meaning things like; NO MISSING DATA in each observation."
   ]
  },
  {
   "cell_type": "code",
   "execution_count": 6,
   "metadata": {},
   "outputs": [
    {
     "name": "stdout",
     "output_type": "stream",
     "text": [
      "<class 'pandas.core.frame.DataFrame'>\n",
      "RangeIndex: 33000 entries, 0 to 32999\n",
      "Data columns (total 2 columns):\n",
      " #   Column   Non-Null Count  Dtype \n",
      "---  ------   --------------  ----- \n",
      " 0   lang_id  33000 non-null  object\n",
      " 1   text     33000 non-null  object\n",
      "dtypes: object(2)\n",
      "memory usage: 515.8+ KB\n"
     ]
    }
   ],
   "source": [
    "df_train.info()"
   ]
  },
  {
   "cell_type": "markdown",
   "metadata": {},
   "source": [
    "The features in our dataset are only in `Object` form , and All features seem to have `Zero Non-Null` values. let's check to confirm count of null values present in each feature."
   ]
  },
  {
   "cell_type": "code",
   "execution_count": 7,
   "metadata": {},
   "outputs": [
    {
     "data": {
      "image/png": "[encoded data removed]",
      "text/plain": [
       "<Figure size 648x720 with 1 Axes>"
      ]
     },
     "metadata": {
      "needs_background": "light"
     },
     "output_type": "display_data"
    }
   ],
   "source": [
    "# plot missing values in train set\n",
    "ax = df_train.isna().sum().sort_values().plot(kind = 'barh', figsize = (9, 10), color='tab:red')\n",
    "plt.title('Percentage of Missing Values Per Column in Train Set', fontdict={'size':15})\n",
    "for p in ax.patches:\n",
    "    percentage ='{:,.0f}%'.format((p.get_width()/df_train.shape[0])*100)\n",
    "    width, height =p.get_width(),p.get_height()\n",
    "    x=p.get_x()+width+0.02\n",
    "    y=p.get_y()+height/2\n",
    "    ax.annotate(percentage,(x,y))"
   ]
  },
  {
   "cell_type": "markdown",
   "metadata": {},
   "source": [
    "The above diagram shows that there is no missing values"
   ]
  },
  {
   "cell_type": "markdown",
   "metadata": {},
   "source": [
    "#### Target Distribution Visualization"
   ]
  },
  {
   "cell_type": "markdown",
   "metadata": {},
   "source": [
    "Let's Visualize the distribution of our Target Response within our Training DataSet i.e. how many data samples we have for each of the different language_ID"
   ]
  },
  {
   "cell_type": "code",
   "execution_count": 8,
   "metadata": {},
   "outputs": [
    {
     "data": {
      "text/plain": [
       "xho    3000\n",
       "eng    3000\n",
       "nso    3000\n",
       "ven    3000\n",
       "tsn    3000\n",
       "nbl    3000\n",
       "zul    3000\n",
       "ssw    3000\n",
       "tso    3000\n",
       "sot    3000\n",
       "afr    3000\n",
       "Name: lang_id, dtype: int64"
      ]
     },
     "execution_count": 8,
     "metadata": {},
     "output_type": "execute_result"
    }
   ],
   "source": [
    "# look at the count of observations in sentiments\n",
    "df_train.lang_id.value_counts()"
   ]
  },
  {
   "cell_type": "code",
   "execution_count": 9,
   "metadata": {},
   "outputs": [
    {
     "name": "stderr",
     "output_type": "stream",
     "text": [
      "c:\\Users\\F5470242\\Anaconda3\\lib\\site-packages\\seaborn\\_decorators.py:36: FutureWarning: Pass the following variable as a keyword arg: x. From version 0.12, the only valid positional argument will be `data`, and passing other arguments without an explicit keyword will result in an error or misinterpretation.\n",
      "  warnings.warn(\n"
     ]
    },
    {
     "data": {
      "image/png": "[encoded data removed]",
      "text/plain": [
       "<Figure size 576x360 with 1 Axes>"
      ]
     },
     "metadata": {},
     "output_type": "display_data"
    }
   ],
   "source": [
    "# Target variable distribution\n",
    "sns.set_style('darkgrid')\n",
    "plt.figure(figsize=(8, 5))\n",
    "sns.countplot(df_train['lang_id'])\n",
    "plt.title('Language ID Distribution')\n",
    "plt.show()"
   ]
  },
  {
   "cell_type": "markdown",
   "metadata": {},
   "source": [
    "The Distribution chart clearly reveals our dataset is `Well Balance`. [Class Imbalance]('https://www.analyticsvidhya.com/blog/2020/07/10-techniques-to-deal-with-class-imbalance-in-machine-learning/') can greatly affect the training of our model. [Click to Now more.]('https://www.analyticsvidhya.com/blog/2020/07/10-techniques-to-deal-with-class-imbalance-in-machine-learning/') "
   ]
  },
  {
   "cell_type": "code",
   "execution_count": 10,
   "metadata": {},
   "outputs": [
    {
     "data": {
      "image/png": "[encoded data removed]",
      "text/plain": [
       "<Figure size 432x288 with 1 Axes>"
      ]
     },
     "metadata": {},
     "output_type": "display_data"
    }
   ],
   "source": [
    "# Setting labels for items in Chart\n",
    "Language_IDs = ['Xhosa', 'English', 'Northern Sotho', 'Venda', 'Tswana', 'Ndebele', 'Zule', 'Swati', 'Tsonga', 'Sotho', 'Afrikaans']\n",
    "\n",
    "# Setting size in Chart based on\n",
    "# given values\n",
    "size = [3000, 3000, 3000, 3000, 3000, 3000, 3000, 3000, 3000, 3000, 3000]\n",
    "\n",
    "# colors\n",
    "colors = ['#FF0000', '#0000FF', '#FFFF00', '#ADFF2F', '#FFA500']\n",
    "# explosion\n",
    "explode = (0.05, 0.05, 0.05, 0.05, 0.05, 0.05, 0.05, 0.05, 0.05, 0.05, 0.05)\n",
    "\n",
    "# Pie Chart\n",
    "plt.pie(size, colors=colors, labels=Language_IDs,\n",
    "\t\tautopct='%1.1f%%', pctdistance=0.85,\n",
    "\t\texplode=explode)\n",
    "\n",
    "# draw circle\n",
    "centre_circle = plt.Circle((0, 0), 0.70, fc='white')\n",
    "fig = plt.gcf()\n",
    "\n",
    "# Adding Circle in Pie chart\n",
    "fig.gca().add_artist(centre_circle)\n",
    "\n",
    "# Adding Title of chart\n",
    "plt.title('South African Languages')\n",
    "\n",
    "# Displaying Chart\n",
    "plt.show(20, 15)\n"
   ]
  },
  {
   "cell_type": "markdown",
   "metadata": {},
   "source": [
    "<a id=\"five\"></a>\n",
    "## Data Engineering\n",
    "<a href=#cont>Back to Table of Contents</a>\n",
    "\n",
    "Let's get the data and clean it up a bit"
   ]
  },
  {
   "cell_type": "code",
   "execution_count": 11,
   "metadata": {},
   "outputs": [],
   "source": [
    "x = df_train[\"text\"]\n",
    "y = df_train[\"lang_id\"]\n",
    "\n",
    "cv = CountVectorizer(ngram_range=(6,6), analyzer='char', min_df=2, max_df=0.9, stop_words='english')\n",
    "X = cv.fit_transform(x)\n",
    "tester = cv.transform(df_test[\"text\"])"
   ]
  },
  {
   "cell_type": "markdown",
   "metadata": {},
   "source": [
    "This involves All actions to make ready our data to serve those structured selected features to models upon request."
   ]
  },
  {
   "cell_type": "code",
   "execution_count": 12,
   "metadata": {},
   "outputs": [],
   "source": [
    "X_train, X_test, y_train, y_test = train_test_split(X, y, test_size=0.17218, random_state=10)"
   ]
  },
  {
   "cell_type": "markdown",
   "metadata": {},
   "source": [
    "<a id=\"seven\"></a>\n",
    "## 7. Modeling\n",
    "<a href=#cont>Back to Table of Contents</a>\n",
    "\n"
   ]
  },
  {
   "cell_type": "markdown",
   "metadata": {},
   "source": [
    "Below is the initialization of different classifiers, which are put through the loop for model training, model prediction and model evaluation through its accuracy score. Finally, there is a generation of submission files for each classifier, which will be submitted to Kaggle."
   ]
  },
  {
   "cell_type": "code",
   "execution_count": 13,
   "metadata": {},
   "outputs": [
    {
     "name": "stdout",
     "output_type": "stream",
     "text": [
      "==============================\n",
      "ComplementNB\n",
      "*****Results*****\n",
      "Accuracy: 8.7997%\n",
      "==============================\n",
      "MultinomialNB\n",
      "*****Results*****\n",
      "Accuracy: 8.7645%\n",
      "==============================\n",
      "MultinomialNB\n",
      "*****Results*****\n",
      "Accuracy: 8.7645%\n",
      "==============================\n"
     ]
    }
   ],
   "source": [
    "classifiers = [\n",
    "    ComplementNB(alpha=0.01),\n",
    "    MultinomialNB(alpha=0.01),\n",
    "    MultinomialNB(alpha=0.02),\n",
    "    ]\n",
    "\n",
    "for clf in classifiers:\n",
    "    clf.fit(X_train, y_train)\n",
    "    name = clf.__class__.__name__\n",
    "\n",
    "    print(\"=\"*30)\n",
    "    print(name)\n",
    "\n",
    "    print('*****Results*****')\n",
    "    y_pred = clf.predict(tester)\n",
    "    acc = accuracy_score(y_test, y_pred)\n",
    "    print(\"Accuracy: {:.4%}\".format(acc))\n",
    "\n",
    "    train_predictions = clf.predict_proba(tester)\n",
    "\n",
    "    submission_df = pd.DataFrame(df_test['index'])\n",
    "    submission_df['lang_id'] = y_pred\n",
    "    submission_df.to_csv(str(name) +'.csv', index=False)\n",
    "    \n",
    "print(\"=\"*30)"
   ]
  },
  {
   "cell_type": "markdown",
   "metadata": {},
   "source": [
    "#### 7.2 Build Model Ensembling"
   ]
  },
  {
   "cell_type": "code",
   "execution_count": 14,
   "metadata": {},
   "outputs": [
    {
     "name": "stdout",
     "output_type": "stream",
     "text": [
      "==============================\n",
      "StackingClassifier\n",
      "****Results****\n",
      "Accuracy: 8.8701%\n",
      "==============================\n",
      "StackingClassifier\n",
      "****Results****\n",
      "Accuracy: 8.8701%\n",
      "==============================\n"
     ]
    }
   ],
   "source": [
    "SC_1 = StackingClassifier(\n",
    "    estimators=[\n",
    "        ('CNBC', classifiers[0]),\n",
    "        ('MNBC', classifiers[1])],\n",
    "    final_estimator=classifiers[1],\n",
    "    n_jobs=-1,\n",
    "    passthrough=True\n",
    "    )\n",
    "\n",
    "SC_2 = StackingClassifier(\n",
    "    estimators=[\n",
    "        ('CNBC', classifiers[0]),\n",
    "        ('MNBC', classifiers[2])],\n",
    "    final_estimator=SC_1,\n",
    "    n_jobs=-1,\n",
    "    passthrough=True\n",
    "    )\n",
    "\n",
    "classifiers = [SC_1, SC_2]\n",
    "\n",
    "for clf in classifiers:\n",
    "    clf.fit(X_train, y_train)\n",
    "    name = clf.__class__.__name__\n",
    "\n",
    "    print(\"=\"*30)\n",
    "    print(name)\n",
    "\n",
    "    print('****Results****')\n",
    "    y_pred = clf.predict(tester)\n",
    "    acc = accuracy_score(y_test, y_pred)\n",
    "    print(\"Accuracy: {:.4%}\".format(acc))\n",
    "\n",
    "    train_predictions = clf.predict_proba(tester)\n",
    "\n",
    "    submission_df = pd.DataFrame(df_test['index'])\n",
    "    submission_df['lang_id'] = y_pred\n",
    "    submission_df.to_csv(str(name) +'.csv', index=False)\n",
    "    \n",
    "print(\"=\"*30)"
   ]
  },
  {
   "cell_type": "markdown",
   "metadata": {},
   "source": [
    "<a id=\"eight\"></a>\n",
    "## MODEL PERFORMANCE\n",
    "<a href=#cont>Back to Table of Contents</a>\n",
    "\n"
   ]
  },
  {
   "cell_type": "markdown",
   "metadata": {},
   "source": [
    "#### Models Testing Scores\n"
   ]
  },
  {
   "cell_type": "code",
   "execution_count": 15,
   "metadata": {},
   "outputs": [
    {
     "name": "stdout",
     "output_type": "stream",
     "text": [
      "              precision    recall  f1-score   support\n",
      "\n",
      "         afr       0.08      0.11      0.09       494\n",
      "         eng       0.10      0.05      0.07       525\n",
      "         nbl       0.08      0.05      0.06       479\n",
      "         nso       0.09      0.14      0.11       492\n",
      "         sot       0.09      0.09      0.09       495\n",
      "         ssw       0.11      0.07      0.09       551\n",
      "         tsn       0.10      0.11      0.10       506\n",
      "         tso       0.09      0.08      0.08       534\n",
      "         ven       0.08      0.09      0.08       546\n",
      "         xho       0.09      0.11      0.10       515\n",
      "         zul       0.09      0.07      0.08       545\n",
      "\n",
      "    accuracy                           0.09      5682\n",
      "   macro avg       0.09      0.09      0.09      5682\n",
      "weighted avg       0.09      0.09      0.09      5682\n",
      "\n"
     ]
    }
   ],
   "source": [
    "print(classification_report(y_test, y_pred))"
   ]
  },
  {
   "cell_type": "markdown",
   "metadata": {},
   "source": [
    "#### Best Model\n",
    "\n",
    "The most performing is the StackingClassifier ensembling the Naive Bayes models (ComplementNB & MultinomialNB) and finally ensembling the ensembled StackingClassifier model with F1-Macro of 0.97588 and accuracy of 0.97% on Kaggle."
   ]
  },
  {
   "cell_type": "markdown",
   "metadata": {},
   "source": [
    "<a id=\"ten\"></a>\n",
    "## Conclusion\n",
    "<a href=#cont>Back to Table of Contents</a>"
   ]
  },
  {
   "cell_type": "markdown",
   "metadata": {},
   "source": [
    "So far, haven tried out several algorithm, we've can thus infer that Multinomial Naive Bayes classifier performed best both in the training and validation phase with an accuracy score of over 99%, representing it's ability when dealing with unforseen data. Hence say our models failure rate is way below 5%."
   ]
  }
 ],
 "metadata": {
  "colab": {
   "collapsed_sections": [
    "VCXae5QXU__Z",
    "wzM8TbWBU__h",
    "FvA-QZmRU__r",
    "hAUkklVXU__6",
    "rFln-NFtVAAI",
    "UZomXVzoVAAR",
    "qp-n688CVAAc",
    "tGmGzrbsVAAf",
    "oFzCFS89VABM",
    "TlO1q-zlVABg"
   ],
   "name": "3_How-do-machines-understand language.ipynb",
   "provenance": [],
   "version": "0.3.2"
  },
  "kernelspec": {
   "display_name": "Python 3.9.7 ('base')",
   "language": "python",
   "name": "python3"
  },
  "language_info": {
   "codemirror_mode": {
    "name": "ipython",
    "version": 3
   },
   "file_extension": ".py",
   "mimetype": "text/x-python",
   "name": "python",
   "nbconvert_exporter": "python",
   "pygments_lexer": "ipython3",
   "version": "3.9.7"
  },
  "vscode": {
   "interpreter": {
    "hash": "856a8449caac1f0f5343e6ebd97025a3528b37a835414937152ef42ed43f001e"
   }
  }
 },
 "nbformat": 4,
 "nbformat_minor": 4
}
